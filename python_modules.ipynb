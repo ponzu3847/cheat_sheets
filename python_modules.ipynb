{
 "cells": [
  {
   "cell_type": "markdown",
   "metadata": {},
   "source": [
    "# Python modules"
   ]
  },
  {
   "cell_type": "markdown",
   "metadata": {},
   "source": [
    "## os\n",
    "https://docs.python.org/ja/3/library/os.html?highlight=os#module-os"
   ]
  },
  {
   "cell_type": "markdown",
   "metadata": {},
   "source": [
    "### .path\n",
    "https://docs.python.org/ja/3/library/os.path.html?highlight=path#module-os.path\n",
    "\n",
    "* このモジュールには、パス名を操作する便利な関数が実装されています。"
   ]
  },
  {
   "cell_type": "markdown",
   "metadata": {},
   "source": [
    "#### .join\n",
    "os.path.join(path, *paths)  \n",
    "https://docs.python.org/ja/3/library/os.path.html?highlight=join#os.path.join\n",
    "\n",
    "* 1 つあるいはそれ以上のパスの要素を賢く結合します。"
   ]
  },
  {
   "cell_type": "code",
   "execution_count": 3,
   "metadata": {},
   "outputs": [
    {
     "data": {
      "text/plain": [
       "'User/me/test.txt'"
      ]
     },
     "execution_count": 3,
     "metadata": {},
     "output_type": "execute_result"
    }
   ],
   "source": [
    "import os\n",
    "\n",
    "os.path.join('User','me','test.txt')"
   ]
  },
  {
   "cell_type": "markdown",
   "metadata": {},
   "source": [
    "## collections\n",
    "https://docs.python.org/ja/3/library/collections.html"
   ]
  },
  {
   "cell_type": "markdown",
   "metadata": {},
   "source": [
    "### .OrderedDict\n",
    "class collections.OrderedDict([items])  \n",
    "https://docs.python.org/ja/3/library/collections.html#collections.OrderedDict  \n",
    "\n",
    "* 順序が保持された辞書を生成する"
   ]
  },
  {
   "cell_type": "code",
   "execution_count": null,
   "metadata": {
    "colab": {
     "base_uri": "https://localhost:8080/",
     "height": 102
    },
    "executionInfo": {
     "elapsed": 1167,
     "status": "ok",
     "timestamp": 1601361516288,
     "user": {
      "displayName": "yuichiro Shimura",
      "photoUrl": "",
      "userId": "07645022638046915315"
     },
     "user_tz": -540
    },
    "id": "AtGj2yk-itbQ",
    "outputId": "1af54e3b-3a0d-470d-d612-0c71175d92ac"
   },
   "outputs": [
    {
     "name": "stdout",
     "output_type": "stream",
     "text": [
      "OrderedDict([('k1', 1), ('k2', 2)])\n",
      "OrderedDict([('k1', 1)])\n",
      "OrderedDict([('k1', 2), ('k3', 3)])\n",
      "OrderedDict([('k1', 2), ('k3', 3), ('k4', 4)])\n",
      "OrderedDict([('k1', 2), ('k3', 5), ('k4', 4)])\n"
     ]
    }
   ],
   "source": [
    "from collections import OrderedDict\n",
    "\n",
    "od=OrderedDict(k1=1,k2=2) # 辞書の生成\n",
    "print(od)\n",
    "\n",
    "del od['k2']  # 要素の削除\n",
    "print(od)\n",
    "\n",
    "od.update(k1=2,k3=3)  # 要素の変更と追加\n",
    "print(od)\n",
    "\n",
    "od['k4']=4  # 要素の追加\n",
    "print(od)\n",
    "\n",
    "od['k3']=5  # 要素の変更\n",
    "print(od)"
   ]
  },
  {
   "cell_type": "markdown",
   "metadata": {},
   "source": [
    "### .Counter\n",
    "class collections.Counter([iterable-or-mapping])  \n",
    "https://docs.python.org/ja/3/library/collections.html?highlight=collections%20counter#collections.Counter  \n",
    "\n",
    "* ハッシュ可能なオブジェクトをカウントする dict のサブクラスです。これは、要素を辞書のキーとして保存し、そのカウントを辞書の値として保存するコレクションです。"
   ]
  },
  {
   "cell_type": "code",
   "execution_count": null,
   "metadata": {
    "colab": {
     "base_uri": "https://localhost:8080/"
    },
    "executionInfo": {
     "elapsed": 654,
     "status": "ok",
     "timestamp": 1606814127132,
     "user": {
      "displayName": "yuichiro Shimura",
      "photoUrl": "",
      "userId": "07645022638046915315"
     },
     "user_tz": -540
    },
    "id": "BythxLJckFXw",
    "outputId": "7d1fef73-32df-41c3-95f4-355b60286fc5"
   },
   "outputs": [
    {
     "name": "stdout",
     "output_type": "stream",
     "text": [
      "Counter({'red': 2, 'blue': 2, 'green': 1})\n"
     ]
    }
   ],
   "source": [
    "from collections import Counter\n",
    "\n",
    "cnt=Counter()\n",
    "colors=['red','green','blue','blue','red']\n",
    "\n",
    "for color in colors:\n",
    "    cnt[color]+=1\n",
    "\n",
    "print(cnt)"
   ]
  },
  {
   "cell_type": "markdown",
   "metadata": {},
   "source": [
    "## copy\n",
    "https://docs.python.org/ja/3/library/copy.html?highlight=copy#module-copy"
   ]
  },
  {
   "cell_type": "markdown",
   "metadata": {},
   "source": [
    "### .deepcopy\n",
    "copy.deepcopy(x[, memo])  \n",
    "https://docs.python.org/ja/3/library/copy.html?highlight=deepcopy#copy.deepcopy\n",
    "\n",
    "* 多次元配列の深い層まで値渡しをする"
   ]
  },
  {
   "cell_type": "code",
   "execution_count": null,
   "metadata": {
    "colab": {
     "base_uri": "https://localhost:8080/",
     "height": 136
    },
    "executionInfo": {
     "elapsed": 1228,
     "status": "ok",
     "timestamp": 1602589868496,
     "user": {
      "displayName": "yuichiro Shimura",
      "photoUrl": "",
      "userId": "07645022638046915315"
     },
     "user_tz": -540
    },
    "id": "FOey1fyHrv3F",
    "outputId": "d4c6b744-eac7-4d10-90fd-2b7609c30ac8"
   },
   "outputs": [
    {
     "name": "stdout",
     "output_type": "stream",
     "text": [
      "x= [[1, 2, 3], [4, 5, 6]]\n",
      "x[1].append(10)\n",
      "x= [[1, 2, 3], [4, 5, 6, 10]] id(x[1])= 4592936128\n",
      "y=x -> [[1, 2, 3], [4, 5, 6, 10]] id(y[1])= 4592936128\n",
      "x.copy() -> [[1, 2, 3], [4, 5, 6, 10]] id(z[1])= 4592936128\n",
      "copy.copy(x) -> [[1, 2, 3], [4, 5, 6, 10]] id(a[1])= 4592936128\n",
      "copy.deepcopy(x) -> [[1, 2, 3], [4, 5, 6]] id(b[1])= 4592215488\n"
     ]
    }
   ],
   "source": [
    "import copy\n",
    "\n",
    "x=[[1,2,3],[4,5,6]]\n",
    "print('x=',x)\n",
    "y=x\n",
    "z=x.copy()\n",
    "a=copy.copy(x)\n",
    "b=copy.deepcopy(x)\n",
    "\n",
    "x[1].append(10)\n",
    "print('x[1].append(10)')\n",
    "print('x=',x,'id(x[1])=',id(x[1]))\n",
    "print('y=x ->',y,'id(y[1])=',id(y[1]))    #y[1]は参照渡し\n",
    "print('x.copy() ->',z,'id(z[1])=',id(z[1]))   #z[1]は参照渡し\n",
    "print('copy.copy(x) ->',a,'id(a[1])=',id(a[1]))   #a[1]は参照渡し\n",
    "print('copy.deepcopy(x) ->',b,'id(b[1])=',id(b[1]))   #b[1]は値渡し"
   ]
  },
  {
   "cell_type": "markdown",
   "metadata": {},
   "source": [
    "## keyword\n",
    "https://docs.python.org/ja/3/library/keyword.html?highlight=keyword#module-keyword"
   ]
  },
  {
   "cell_type": "markdown",
   "metadata": {},
   "source": [
    "### .iskeyword\n",
    "keyword.iskeyword(s)  \n",
    "https://docs.python.org/ja/3/library/keyword.html?highlight=iskey#keyword.iskeyword  \n",
    "\n",
    "* 与えられた文字列がPythonのキーワードの場合、Trueを返す"
   ]
  },
  {
   "cell_type": "code",
   "execution_count": null,
   "metadata": {
    "colab": {
     "base_uri": "https://localhost:8080/",
     "height": 119
    },
    "executionInfo": {
     "elapsed": 1964,
     "status": "ok",
     "timestamp": 1601543014883,
     "user": {
      "displayName": "yuichiro Shimura",
      "photoUrl": "",
      "userId": "07645022638046915315"
     },
     "user_tz": -540
    },
    "id": "FUkrXfQXYoMH",
    "outputId": "ee6d1620-312c-4fde-c991-82ca63f66e05"
   },
   "outputs": [
    {
     "name": "stdout",
     "output_type": "stream",
     "text": [
      "True\n",
      "True\n",
      "True\n",
      "True\n",
      "False\n",
      "False\n"
     ]
    }
   ],
   "source": [
    "import keyword\n",
    "\n",
    "print(keyword.iskeyword('for'))\n",
    "print(keyword.iskeyword('while'))\n",
    "print(keyword.iskeyword('if'))\n",
    "print(keyword.iskeyword('break'))\n",
    "\n",
    "print(keyword.iskeyword('list'))\n",
    "print(keyword.iskeyword('football'))"
   ]
  },
  {
   "cell_type": "markdown",
   "metadata": {},
   "source": [
    "## csv\n",
    "https://docs.python.org/ja/3/library/csv.html?highlight=csv#module-csv"
   ]
  },
  {
   "cell_type": "markdown",
   "metadata": {},
   "source": [
    "### .reader\n",
    "csv.reader(csvfile, dialect='excel', **fmtparams)  \n",
    "https://docs.python.org/ja/3/library/csv.html?highlight=reader#csv.reader\n",
    "\n",
    "* 与えられたcsvfile内の行を反復処理するようなreaderオブジェクトを返す\n",
    "* イテレータ(iterator)プロトコルに対応したオブジェクトなのでfor文やnextで行データを取得することが可能\n",
    "* 行データはリストなのでインデックスでアクセスできる\n"
   ]
  },
  {
   "cell_type": "code",
   "execution_count": null,
   "metadata": {
    "colab": {
     "base_uri": "https://localhost:8080/",
     "height": 374
    },
    "colab_type": "code",
    "executionInfo": {
     "elapsed": 845,
     "status": "ok",
     "timestamp": 1601020685252,
     "user": {
      "displayName": "yuichiro Shimura",
      "photoUrl": "",
      "userId": "07645022638046915315"
     },
     "user_tz": -540
    },
    "id": "dFgzUeNg_E7V",
    "outputId": "f97b7099-eca9-4bb9-d76c-10583ed24d81"
   },
   "outputs": [
    {
     "name": "stdout",
     "output_type": "stream",
     "text": [
      "cost\n",
      "173\n",
      "191\n",
      "134\n",
      "100\n",
      "117\n",
      "112\n",
      "35\n",
      "87\n",
      "203\n",
      "50\n",
      "26\n",
      "163\n",
      "270\n",
      "160\n",
      "160\n",
      "60\n",
      "199\n",
      "237\n",
      "215\n",
      "145\n"
     ]
    }
   ],
   "source": [
    "import csv\n",
    "\n",
    "with open('data/access.csv', newline='') as csvfile:\n",
    "  reader = csv.reader(csvfile,delimiter=',',quotechar='\"')\n",
    "\n",
    "  for row in reader:\n",
    "    print(row[0])"
   ]
  },
  {
   "cell_type": "markdown",
   "metadata": {},
   "source": [
    "### .DictReader\n",
    "class csv.DictReader(f, fieldnames=None, restkey=None, restval=None, dialect='excel', *args, **kwds)  \n",
    "https://docs.python.org/ja/3/library/csv.html?highlight=dictreader#csv.DictReader  \n",
    "\n",
    "* イテレータ(iterator)プロトコルに対応したオブジェクトで返却される\n",
    "* 行データが辞書型で表現されているため、カラム名を指定して取得することができる\n",
    "* カラム名は自動的に一行目が読み込まれる\n"
   ]
  },
  {
   "cell_type": "code",
   "execution_count": null,
   "metadata": {
    "colab": {
     "base_uri": "https://localhost:8080/",
     "height": 357
    },
    "colab_type": "code",
    "executionInfo": {
     "elapsed": 923,
     "status": "ok",
     "timestamp": 1601020903160,
     "user": {
      "displayName": "yuichiro Shimura",
      "photoUrl": "",
      "userId": "07645022638046915315"
     },
     "user_tz": -540
    },
    "id": "hxk5fSfGEcOM",
    "outputId": "93d7930f-70fb-45f3-bb9e-4a5192a2403a"
   },
   "outputs": [
    {
     "name": "stdout",
     "output_type": "stream",
     "text": [
      "{'cost': '173', 'sales': '1497'}\n",
      "{'cost': '191', 'sales': '1488'}\n",
      "{'cost': '134', 'sales': '1176'}\n",
      "{'cost': '100', 'sales': '1002'}\n",
      "{'cost': '117', 'sales': '1155'}\n",
      "{'cost': '112', 'sales': '1161'}\n",
      "{'cost': '35', 'sales': '933'}\n",
      "{'cost': '87', 'sales': '930'}\n",
      "{'cost': '203', 'sales': '1554'}\n",
      "{'cost': '50', 'sales': '978'}\n",
      "{'cost': '26', 'sales': '999'}\n",
      "{'cost': '163', 'sales': '1278'}\n",
      "{'cost': '270', 'sales': '1971'}\n",
      "{'cost': '160', 'sales': '1203'}\n",
      "{'cost': '160', 'sales': '1284'}\n",
      "{'cost': '60', 'sales': '960'}\n",
      "{'cost': '199', 'sales': '1569'}\n",
      "{'cost': '237', 'sales': '1779'}\n",
      "{'cost': '215', 'sales': '1614'}\n",
      "{'cost': '145', 'sales': '1230'}\n"
     ]
    }
   ],
   "source": [
    "import csv\n",
    "\n",
    "with open('data/access.csv', newline='') as csvfile:\n",
    "  reader = csv.DictReader(csvfile)\n",
    "  for row in reader:\n",
    "    print(row)"
   ]
  },
  {
   "cell_type": "markdown",
   "metadata": {},
   "source": [
    "## math\n",
    "https://docs.python.org/ja/3/library/math.html"
   ]
  },
  {
   "cell_type": "markdown",
   "metadata": {},
   "source": [
    "### .pow\n",
    "math.pow(x, y)  \n",
    "https://docs.python.org/ja/3/library/math.html?highlight=pow#math.pow  \n",
    "\n",
    "* x の y 乗を返します。"
   ]
  },
  {
   "cell_type": "code",
   "execution_count": 1,
   "metadata": {},
   "outputs": [
    {
     "name": "stdout",
     "output_type": "stream",
     "text": [
      "(8.659560562354934e-17+1.4142135623730951j)\n",
      "(8.659560562354934e-17+1.4142135623730951j)\n"
     ]
    },
    {
     "ename": "NameError",
     "evalue": "name 'math' is not defined",
     "output_type": "error",
     "traceback": [
      "\u001b[0;31m---------------------------------------------------------------------------\u001b[0m",
      "\u001b[0;31mNameError\u001b[0m                                 Traceback (most recent call last)",
      "\u001b[0;32m<ipython-input-1-32a174d55ae1>\u001b[0m in \u001b[0;36m<module>\u001b[0;34m\u001b[0m\n\u001b[1;32m      4\u001b[0m \u001b[0mb\u001b[0m\u001b[0;34m=\u001b[0m\u001b[0;34m(\u001b[0m\u001b[0;34m-\u001b[0m\u001b[0;36m2\u001b[0m\u001b[0;34m)\u001b[0m\u001b[0;34m**\u001b[0m\u001b[0;36m0.5\u001b[0m\u001b[0;34m\u001b[0m\u001b[0;34m\u001b[0m\u001b[0m\n\u001b[1;32m      5\u001b[0m \u001b[0mprint\u001b[0m\u001b[0;34m(\u001b[0m\u001b[0mb\u001b[0m\u001b[0;34m)\u001b[0m\u001b[0;34m\u001b[0m\u001b[0;34m\u001b[0m\u001b[0m\n\u001b[0;32m----> 6\u001b[0;31m \u001b[0mc\u001b[0m \u001b[0;34m=\u001b[0m \u001b[0mmath\u001b[0m\u001b[0;34m.\u001b[0m\u001b[0mpow\u001b[0m\u001b[0;34m(\u001b[0m\u001b[0;34m-\u001b[0m\u001b[0;36m2\u001b[0m\u001b[0;34m,\u001b[0m \u001b[0;36m0.5\u001b[0m\u001b[0;34m)\u001b[0m\u001b[0;34m\u001b[0m\u001b[0;34m\u001b[0m\u001b[0m\n\u001b[0m\u001b[1;32m      7\u001b[0m \u001b[0mprint\u001b[0m\u001b[0;34m(\u001b[0m\u001b[0mc\u001b[0m\u001b[0;34m)\u001b[0m  \u001b[0;31m# ValueError: math domain error\u001b[0m\u001b[0;34m\u001b[0m\u001b[0;34m\u001b[0m\u001b[0m\n\u001b[1;32m      8\u001b[0m \u001b[0;34m\u001b[0m\u001b[0m\n",
      "\u001b[0;31mNameError\u001b[0m: name 'math' is not defined"
     ]
    }
   ],
   "source": [
    "#Python の pow と math の pow はどう違うか？\n",
    "a = pow(-2, 0.5)\n",
    "print(a)  # (8.659560562354934e-17+1.4142135623730951j)\n",
    "b=(-2)**0.5\n",
    "print(b)\n",
    "c = math.pow(-2, 0.5)\n",
    "print(c)  # ValueError: math domain error\n",
    "\n",
    "'''\n",
    "0.5 乗の定義域は 0 以上の実数なので、pow(-2, 0.5) はそもそも実数の関数として定義できない(虚数になる)\n",
    "よってエラーの出ているmathが正しい\n",
    "'''"
   ]
  },
  {
   "cell_type": "markdown",
   "metadata": {},
   "source": [
    "## random\n",
    "https://docs.python.org/ja/3/library/random.html?highlight=random#module-random"
   ]
  },
  {
   "cell_type": "markdown",
   "metadata": {},
   "source": [
    "### .randint\n",
    "random.randint(a, b)  \n",
    "https://docs.python.org/ja/3/library/random.html?highlight=randint#random.randint  \n",
    "\n",
    "* 与えられた２つの整数の範囲から一つの整数をランダムに発生させる"
   ]
  },
  {
   "cell_type": "code",
   "execution_count": 7,
   "metadata": {},
   "outputs": [
    {
     "name": "stdout",
     "output_type": "stream",
     "text": [
      "18\n"
     ]
    }
   ],
   "source": [
    "import random\n",
    "\n",
    "print(random.randint(0,100))"
   ]
  },
  {
   "cell_type": "markdown",
   "metadata": {},
   "source": [
    "### .shuffle\n",
    "random.shuffle(x[, random])  \n",
    "https://docs.python.org/ja/3/library/random.html?highlight=shuffle#random.shuffle  \n",
    "\n",
    "* 与えられた配列の要素をシャッフルする\n"
   ]
  },
  {
   "cell_type": "code",
   "execution_count": 8,
   "metadata": {},
   "outputs": [
    {
     "name": "stdout",
     "output_type": "stream",
     "text": [
      "[3, 2, 1, 4, 5]\n"
     ]
    }
   ],
   "source": [
    "a=[1,2,3,4,5]\n",
    "random.shuffle(a)\n",
    "print(a)"
   ]
  },
  {
   "cell_type": "markdown",
   "metadata": {},
   "source": [
    "### .sample\n",
    "random.sample(population, k, *, counts=None)  \n",
    "https://docs.python.org/ja/3/library/random.html?highlight=sample#random.sample  \n",
    "\n",
    "* 与えられた配列の要素をシャッフルして新しい配列を生成する"
   ]
  },
  {
   "cell_type": "code",
   "execution_count": 9,
   "metadata": {},
   "outputs": [
    {
     "name": "stdout",
     "output_type": "stream",
     "text": [
      "a= [1, 2, 3, 4, 5]\n",
      "b= [2, 3, 4, 1, 5]\n",
      "c= [5, 2]\n"
     ]
    }
   ],
   "source": [
    "a=[1,2,3,4,5]\n",
    "b=random.sample(a,len(a))\n",
    "c=random.sample(a,2)\n",
    "print('a=',a)\n",
    "print('b=',b)\n",
    "print('c=',c)"
   ]
  },
  {
   "cell_type": "markdown",
   "metadata": {},
   "source": [
    "## pickle\n",
    "https://docs.python.org/ja/3/library/pickle.html?highlight=pickle#module-pickle"
   ]
  },
  {
   "cell_type": "markdown",
   "metadata": {},
   "source": [
    "### dump\n",
    "pickle.dump(obj, file, protocol=None, *, fix_imports=True, buffer_callback=None)  \n",
    "https://docs.python.org/ja/3/library/pickle.html?highlight=dump#pickle.dump  \n",
    "\n",
    "* オブジェクト（配列、変数など）をひとつのまとまり（ファイル）として保存する"
   ]
  },
  {
   "cell_type": "code",
   "execution_count": 4,
   "metadata": {},
   "outputs": [],
   "source": [
    "import pickle\n",
    "\n",
    "a=[111,'abc',{'k1':34}]\n",
    "with open('data/test.pkl','wb') as f:\n",
    "  pickle.dump(a,f)"
   ]
  },
  {
   "cell_type": "markdown",
   "metadata": {},
   "source": [
    "### .load\n",
    "pickle.load(file, *, fix_imports=True, encoding='ASCII', errors='strict', buffers=None)  \n",
    "https://docs.python.org/ja/3/library/pickle.html?highlight=load#pickle.load  \n",
    "\n",
    "* あるオブジェクトの pickle 化表現を、オープンしている ファイルオブジェクト file から読み込み、その中で指定されているオブジェクト階層に再構成して返します。"
   ]
  },
  {
   "cell_type": "code",
   "execution_count": 5,
   "metadata": {},
   "outputs": [
    {
     "name": "stdout",
     "output_type": "stream",
     "text": [
      "[111, 'abc', {'k1': 34}]\n",
      "34\n"
     ]
    }
   ],
   "source": [
    "with open('data/test.pkl','rb') as f:\n",
    "  a=pickle.load(f)\n",
    "  print(a)\n",
    "  print(a[2]['k1'])"
   ]
  },
  {
   "cell_type": "markdown",
   "metadata": {},
   "source": [
    "## statistics\n",
    "https://docs.python.org/ja/3/library/statistics.html  \n",
    "\n",
    "数理統計関数"
   ]
  },
  {
   "cell_type": "markdown",
   "metadata": {},
   "source": [
    "### .mean\n",
    "statistics.mean(data)  \n",
    "https://docs.python.org/ja/3/library/statistics.html?highlight=mean#statistics.mean  \n",
    "\n",
    "* 与えられた配列の平均値を返す"
   ]
  },
  {
   "cell_type": "code",
   "execution_count": 15,
   "metadata": {},
   "outputs": [
    {
     "name": "stdout",
     "output_type": "stream",
     "text": [
      "[1, 2, 3, 4, 5, 6, 7]\n",
      "4\n"
     ]
    }
   ],
   "source": [
    "import statistics\n",
    "\n",
    "a=[1,2,3,4,5,6,7]\n",
    "print(a)\n",
    "print(statistics.mean(a))"
   ]
  },
  {
   "cell_type": "markdown",
   "metadata": {},
   "source": [
    "### .median\n",
    "statistics.median(data)  \n",
    "https://docs.python.org/ja/3/library/statistics.html?highlight=median#statistics.median  \n",
    "\n",
    "* 与えられた配列の中央値を返す"
   ]
  },
  {
   "cell_type": "code",
   "execution_count": 17,
   "metadata": {},
   "outputs": [
    {
     "name": "stdout",
     "output_type": "stream",
     "text": [
      "[1, 2, 3, 4, 5, 6, 7, 8]\n",
      "4.5\n"
     ]
    }
   ],
   "source": [
    "a=[1,2,3,4,5,6,7,8]\n",
    "print(a)\n",
    "print(statistics.median(a))"
   ]
  },
  {
   "cell_type": "markdown",
   "metadata": {},
   "source": [
    "### mode\n",
    "statistics.mode(data)  \n",
    "https://docs.python.org/ja/3/library/statistics.html?highlight=mode#statistics.mode  \n",
    "\n",
    "* 与えられた配列の最頻値を返す\n"
   ]
  },
  {
   "cell_type": "code",
   "execution_count": 18,
   "metadata": {},
   "outputs": [
    {
     "name": "stdout",
     "output_type": "stream",
     "text": [
      "[2 5 0 4 4 0 5 2 9 0]\n",
      "0\n"
     ]
    }
   ],
   "source": [
    "import numpy as np\n",
    "\n",
    "a=np.random.randint(0,10,10)\n",
    "print(a)\n",
    "print(statistics.mode(a))"
   ]
  },
  {
   "cell_type": "markdown",
   "metadata": {},
   "source": [
    "## bisect\n",
    "https://docs.python.org/ja/3/library/bisect.html  \n",
    "\n",
    "配列二分法アルゴリズム"
   ]
  },
  {
   "cell_type": "markdown",
   "metadata": {},
   "source": [
    "### .bisect\n",
    "bisect.bisect(a, x, lo=0, hi=len(a))  \n",
    "https://docs.python.org/ja/3/library/bisect.html?highlight=bisect#bisect.bisect  \n",
    "\n",
    "* a に含まれる x のうち、どのエントリーよりも後ろ(右)にくるような挿入点を返します。"
   ]
  },
  {
   "cell_type": "code",
   "execution_count": 24,
   "metadata": {},
   "outputs": [
    {
     "data": {
      "text/plain": [
       "5"
      ]
     },
     "execution_count": 24,
     "metadata": {},
     "output_type": "execute_result"
    }
   ],
   "source": [
    "import bisect\n",
    "\n",
    "a=[1,2,3,3,4,5,5,6]\n",
    "bisect.bisect(a,4)"
   ]
  },
  {
   "cell_type": "markdown",
   "metadata": {},
   "source": [
    "### .insort\n",
    "bisect.insort(a, x, lo=0, hi=len(a))  \n",
    "https://docs.python.org/ja/3/library/bisect.html?highlight=insort#bisect.insort  \n",
    "\n",
    "* a に含まれる x のうち、どのエントリーよりも後ろに x を挿入します。"
   ]
  },
  {
   "cell_type": "code",
   "execution_count": 25,
   "metadata": {},
   "outputs": [
    {
     "data": {
      "text/plain": [
       "[1, 2, 3, 3, 3, 4, 5, 5, 6]"
      ]
     },
     "execution_count": 25,
     "metadata": {},
     "output_type": "execute_result"
    }
   ],
   "source": [
    "a=[1,2,3,3,4,5,5,6]\n",
    "bisect.insort(a,3)\n",
    "a"
   ]
  },
  {
   "cell_type": "markdown",
   "metadata": {},
   "source": [
    "## datetime"
   ]
  },
  {
   "cell_type": "markdown",
   "metadata": {},
   "source": [
    "https://docs.python.org/ja/3/library/datetime.html\n",
    "\n",
    "* 基本的な日付型および時間型"
   ]
  },
  {
   "cell_type": "markdown",
   "metadata": {},
   "source": [
    "### .datetime\n",
    "class datetime.datetime(year, month, day, hour=0, minute=0, second=0, microsecond=0, tzinfo=None, *, fold=0)  \n",
    "https://docs.python.org/ja/3/library/datetime.html?highlight=datetime%20datetime#datetime.datetime  "
   ]
  },
  {
   "cell_type": "code",
   "execution_count": 20,
   "metadata": {},
   "outputs": [
    {
     "name": "stdout",
     "output_type": "stream",
     "text": [
      "2022-01-20 00:00:00\n",
      "<class 'datetime.datetime'>\n",
      "2022-01-20 00:00:00\n",
      "<class 'pandas._libs.tslibs.timestamps.Timestamp'>\n",
      "2022-01-20T00:00:00.000000000\n",
      "<class 'numpy.datetime64'>\n",
      "1642636800000000000\n",
      "1642636800.0\n"
     ]
    }
   ],
   "source": [
    "import datetime\n",
    "import pandas as pd\n",
    "\n",
    "date=datetime.datetime(2022,1,20)\n",
    "print(date)\n",
    "print(type(date))\n",
    "\n",
    "pd_date=pd.Timestamp(date)\n",
    "print(pd_date)\n",
    "print(type(pd_date))\n",
    "\n",
    "np_date=pd_date.to_numpy()\n",
    "print(np_date)\n",
    "print(type(np_date))\n",
    "print(np_date.astype('int64'))\n",
    "print(np_date.astype('int64')/10**9)    # POSIX時刻（UNIX時間）"
   ]
  },
  {
   "cell_type": "markdown",
   "metadata": {},
   "source": [
    "### .now\n",
    "classmethod datetime.now(tz=None)  \n",
    "https://docs.python.org/ja/3/library/datetime.html?highlight=now#datetime.datetime.now  \n",
    "\n",
    "* 現在のローカルな日時を返します。\n",
    "\n"
   ]
  },
  {
   "cell_type": "code",
   "execution_count": 11,
   "metadata": {},
   "outputs": [
    {
     "name": "stdout",
     "output_type": "stream",
     "text": [
      "2022-01-18 14:51:45.759437\n",
      "<class 'datetime.datetime'>\n"
     ]
    }
   ],
   "source": [
    "import datetime\n",
    "import numpy as np\n",
    "\n",
    "now=datetime.datetime.now()\n",
    "print(now)\n",
    "print(type(now))"
   ]
  },
  {
   "cell_type": "markdown",
   "metadata": {},
   "source": [
    "## re\n",
    "https://docs.python.org/ja/3/library/re.html  \n",
    "* 正規表現操作"
   ]
  },
  {
   "cell_type": "markdown",
   "metadata": {},
   "source": [
    "### .compile\n",
    "re.compile(pattern, flags=0)  \n",
    "https://docs.python.org/ja/3/library/re.html  \n",
    "\n",
    "* 正規表現パターンを 正規表現オブジェクト にコンパイルし、以下に述べる match() 、 search() その他のメソッドを使ってマッチングに使えるようにします。\n",
    "* 式の挙動は flags の値を指定することで加減できます。値は以下の変数のうち任意のものを、ビット単位 OR ( | 演算子) で組み合わせたものです。"
   ]
  },
  {
   "cell_type": "code",
   "execution_count": null,
   "metadata": {},
   "outputs": [],
   "source": []
  },
  {
   "cell_type": "markdown",
   "metadata": {},
   "source": []
  }
 ],
 "metadata": {
  "interpreter": {
   "hash": "aee8b7b246df8f9039afb4144a1f6fd8d2ca17a180786b69acc140d282b71a49"
  },
  "kernelspec": {
   "display_name": "Python 3.9.1 64-bit",
   "language": "python",
   "name": "python3"
  },
  "language_info": {
   "codemirror_mode": {
    "name": "ipython",
    "version": 3
   },
   "file_extension": ".py",
   "mimetype": "text/x-python",
   "name": "python",
   "nbconvert_exporter": "python",
   "pygments_lexer": "ipython3",
   "version": "3.9.1"
  },
  "orig_nbformat": 4
 },
 "nbformat": 4,
 "nbformat_minor": 2
}
