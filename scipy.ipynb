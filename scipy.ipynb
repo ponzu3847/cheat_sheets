{
 "cells": [
  {
   "cell_type": "markdown",
   "metadata": {},
   "source": [
    "# SciPy"
   ]
  },
  {
   "cell_type": "markdown",
   "metadata": {},
   "source": [
    "## scipy.cluster\n",
    "https://scipy.github.io/devdocs/reference/cluster.html?highlight=cluster#module-scipy.cluster"
   ]
  },
  {
   "cell_type": "markdown",
   "metadata": {},
   "source": [
    "### .hierarchy\n",
    "https://scipy.github.io/devdocs/reference/cluster.hierarchy.html#module-scipy.cluster.hierarchy  \n",
    "  \n",
    "凝集型クラスタリング\n",
    "* 凝集型クラスタリング（agglomerative clustering）とは、ある原則に基づく一連のクラスタリングアルゴリズムのこと\n",
    "* 個々のデータポイントをそれぞれ個別のクラスタとして開始し、最も類似した2つのクラスタを併合していく\n",
    "* これを何らかの終了条件を満たすまで繰り返す\n",
    "* scikit-learnに実装されている終了条件はクラスタの数\n",
    "* 「最も類似したクラスタ」を決定する連結（linkege）度にはさまざまなものがあり、この連結度は常に2つのクラスタ間に定義される\n",
    "* ward: デフォルト。併合した際にクラスタ内の分散の増分が最小になるように2つのクラスタを選択する。多くの場合比較的同じサイズのクラスタになる。\n",
    "* average: average連結度を用いると、クラスタ間のすべてのポイント間の距離の平均値が最小の2クラスタを併合する。\n",
    "* complete: complete連結度は2つクラスタの点間の距離の最大値が最小となるものを併合する。\n",
    "* 凝集型クラスタリングで生成される階層的なクラスタ割当\n",
    "* この可視化の方法によって階層化の詳細を理解できるが、データが2次元であることに依存する\n",
    "* 多次元のデータセットの階層型クラスタリングの可視化を行いたい場合は、デンドログラム（dendrogram）と呼ばれる方法を用いると良い\n",
    "* デンドログラムはscikit-learnではサポートされていないが、Scipyを使えば簡単にできる\n"
   ]
  },
  {
   "cell_type": "markdown",
   "metadata": {},
   "source": [
    "### .ward\n",
    "scipy.cluster.hierarchy.ward(y)  \n",
    "https://scipy.github.io/devdocs/reference/generated/scipy.cluster.hierarchy.ward.html#scipy.cluster.hierarchy.ward  \n",
    "  \n",
    "戻り値：\n",
    "* 最初と2番目の要素は、各ステップでマージされた2つのクラスターであり、3番目の要素はこれらのクラスター間の距離であり、4番目の要素は新しいクラスターのサイズ（含まれる元のデータポイントの数）\n"
   ]
  },
  {
   "cell_type": "code",
   "execution_count": 91,
   "metadata": {},
   "outputs": [
    {
     "data": {
      "text/plain": [
       "(569, 30)"
      ]
     },
     "metadata": {},
     "output_type": "display_data"
    },
    {
     "data": {
      "text/plain": [
       "(568, 4)"
      ]
     },
     "metadata": {},
     "output_type": "display_data"
    },
    {
     "data": {
      "text/plain": [
       "array([287.        , 336.        ,   3.81596727,   2.        ])"
      ]
     },
     "metadata": {},
     "output_type": "display_data"
    }
   ],
   "source": [
    "# scipyからデンドログラム関数とwardクラスタリング関数をインポート\n",
    "from scipy.cluster.hierarchy import ward\n",
    "from sklearn.datasets import load_breast_cancer\n",
    "\n",
    "cancer=load_breast_cancer()\n",
    "X,_=cancer.data,cancer.target\n",
    "\n",
    "# wardクラスタリングをデータ配列Xに適用\n",
    "# scipyのward関数は、凝集型クラスタリングを行った際のブリッジ距離を示す配列を返す\n",
    "linkage_array=ward(X)\n",
    "display(X.shape)\n",
    "display(linkage_array.shape)\n",
    "display(linkage_array[0])"
   ]
  },
  {
   "cell_type": "markdown",
   "metadata": {},
   "source": [
    "#### .dendrogram\n",
    "scipy.cluster.hierarchy.dendrogram(Z, p=30, truncate_mode=None, color_threshold=None, get_leaves=True, orientation='top', labels=None, count_sort=False, distance_sort=False, show_leaf_counts=True, no_plot=False, no_labels=False, leaf_font_size=None, leaf_rotation=None, leaf_label_func=None, show_contracted=False, link_color_func=None, ax=None, above_threshold_color='C0')  \n",
    "https://scipy.github.io/devdocs/reference/generated/scipy.cluster.hierarchy.dendrogram.html#scipy.cluster.hierarchy.dendrogram  \n",
    "  \n",
    "* デンドログラムは、データポイントを一番下の点として表す\n",
    "* 次に、これらのポイントを葉とし、2つのクラスタが結合されたものを新しいノードとして木構造をプロットする\n",
    "* デンドログラムの枝の長さは、それぞれのクラスタがどれだけ離れていたかを表す"
   ]
  },
  {
   "cell_type": "code",
   "execution_count": 105,
   "metadata": {},
   "outputs": [
    {
     "data": {
      "text/plain": [
       "Text(0, 0.5, 'Cluster distance')"
      ]
     },
     "execution_count": 105,
     "metadata": {},
     "output_type": "execute_result"
    },
    {
     "data": {
      "image/png": "[encoded data removed]",
      "text/plain": [
       "<Figure size 864x576 with 1 Axes>"
      ]
     },
     "metadata": {
      "needs_background": "light"
     },
     "output_type": "display_data"
    }
   ],
   "source": [
    "from scipy.cluster.hierarchy import dendrogram\n",
    "import matplotlib.pyplot as plt\n",
    "\n",
    "fig = plt.figure(figsize=(12, 8))\n",
    "\n",
    "# このlinkage_arrayに書かれたクラスタ間距離をデンドログラムとしてプロットする\n",
    "dn=dendrogram(linkage_array,no_labels=True)\n",
    "\n",
    "plt.xlabel('Sample index')\n",
    "plt.ylabel('Cluster distance')"
   ]
  },
  {
   "cell_type": "markdown",
   "metadata": {},
   "source": [
    "#### .fcluster\n",
    "scipy.cluster.hierarchy.fcluster(Z, t, criterion='inconsistent', depth=2, R=None, monocrit=None)  \n",
    "https://scipy.github.io/devdocs/reference/generated/scipy.cluster.hierarchy.fcluster.html#scipy.cluster.hierarchy.fcluster  \n",
    "  \n",
    "Z: ndarray\n",
    "* linkage関数によって返される行列でエンコードされた階層的クラスタリング。\n",
    "  \n",
    "t: スカラー\n",
    "* 基準「一貫性のない」、「距離」または「モノクリット」の場合、これは、フラットクラスターを形成するときに適用するしきい値です。\n",
    "* 'maxclust'または 'maxclust_monocrit'基準の場合、これは、要求されたクラスターの最大数になります。"
   ]
  },
  {
   "cell_type": "code",
   "execution_count": 106,
   "metadata": {},
   "outputs": [
    {
     "data": {
      "text/plain": [
       "array([1, 1, 1, 2, 1, 2, 1, 2, 2, 2, 2, 2, 2, 2, 2, 2, 2, 2, 1, 2, 2, 2,\n",
       "       2, 1, 1, 2, 2, 2, 2, 2, 1, 2, 2, 1, 2, 2, 2, 2, 2, 2, 2, 2, 1, 2,\n",
       "       2, 1, 2, 2, 2, 2, 2, 2, 2, 2, 2, 2, 1, 2, 2, 2, 2, 2, 2, 2, 2, 2,\n",
       "       2, 2, 2, 2, 1, 2, 1, 2, 2, 2, 2, 1, 1, 2, 2, 2, 1, 2, 2, 1, 2, 1,\n",
       "       2, 2, 2, 2, 2, 2, 2, 1, 2, 2, 2, 2, 2, 2, 2, 2, 2, 2, 2, 2, 1, 2,\n",
       "       2, 2, 2, 2, 2, 2, 2, 2, 2, 2, 2, 1, 1, 2, 2, 2, 2, 1, 2, 1, 2, 2,\n",
       "       2, 2, 1, 2, 2, 2, 2, 2, 2, 2, 2, 2, 2, 2, 2, 2, 2, 2, 2, 2, 2, 2,\n",
       "       2, 2, 2, 2, 2, 2, 2, 1, 1, 2, 1, 2, 2, 2, 1, 2, 2, 2, 2, 2, 2, 2,\n",
       "       2, 2, 2, 2, 1, 1, 2, 2, 2, 2, 2, 2, 2, 2, 2, 2, 2, 2, 2, 2, 2, 2,\n",
       "       1, 2, 2, 2, 1, 2, 2, 2, 2, 2, 2, 2, 1, 2, 1, 2, 2, 2, 2, 2, 1, 1,\n",
       "       2, 2, 2, 2, 2, 2, 2, 2, 2, 2, 2, 2, 2, 1, 2, 2, 1, 1, 2, 2, 2, 2,\n",
       "       2, 2, 1, 2, 2, 2, 2, 2, 1, 2, 1, 2, 1, 2, 1, 2, 2, 2, 1, 2, 2, 2,\n",
       "       2, 1, 2, 2, 2, 2, 2, 2, 1, 2, 2, 2, 2, 2, 2, 2, 1, 2, 1, 2, 2, 2,\n",
       "       2, 2, 2, 2, 2, 2, 2, 2, 2, 2, 2, 2, 2, 2, 1, 2, 1, 2, 2, 2, 2, 2,\n",
       "       2, 2, 2, 2, 2, 2, 2, 2, 2, 2, 2, 2, 2, 1, 2, 1, 2, 2, 2, 2, 2, 2,\n",
       "       2, 2, 2, 2, 2, 2, 2, 1, 2, 1, 2, 2, 2, 1, 2, 2, 2, 2, 2, 2, 2, 2,\n",
       "       1, 2, 2, 2, 2, 2, 2, 2, 2, 2, 2, 2, 2, 1, 1, 2, 1, 1, 2, 2, 1, 1,\n",
       "       2, 2, 2, 2, 2, 2, 2, 2, 2, 2, 2, 2, 2, 2, 2, 2, 2, 2, 2, 1, 2, 2,\n",
       "       2, 2, 2, 2, 2, 2, 2, 2, 2, 2, 2, 2, 2, 2, 2, 2, 2, 2, 2, 2, 2, 1,\n",
       "       2, 2, 2, 2, 2, 2, 2, 2, 2, 2, 2, 2, 2, 2, 1, 1, 2, 2, 2, 2, 2, 2,\n",
       "       2, 2, 2, 2, 2, 2, 2, 2, 2, 1, 2, 1, 2, 2, 2, 2, 2, 2, 2, 2, 1, 1,\n",
       "       2, 2, 2, 2, 2, 2, 2, 2, 2, 2, 2, 2, 2, 2, 2, 2, 2, 2, 2, 2, 2, 2,\n",
       "       2, 2, 2, 1, 2, 2, 2, 2, 2, 2, 2, 2, 2, 2, 1, 1, 2, 2, 2, 1, 2, 2,\n",
       "       2, 2, 2, 2, 2, 2, 2, 2, 2, 2, 2, 1, 2, 2, 2, 1, 2, 2, 2, 2, 2, 2,\n",
       "       2, 2, 2, 2, 2, 1, 2, 1, 2, 2, 2, 2, 2, 2, 2, 2, 2, 2, 2, 2, 2, 2,\n",
       "       2, 2, 2, 2, 2, 2, 2, 2, 2, 2, 2, 2, 2, 1, 1, 1, 2, 1, 2],\n",
       "      dtype=int32)"
      ]
     },
     "metadata": {},
     "output_type": "display_data"
    },
    {
     "name": "stderr",
     "output_type": "stream",
     "text": [
      "ic| adjusted_rand_score(cancer.target,clusters): 0.2872456066095377\n"
     ]
    },
    {
     "data": {
      "text/plain": [
       "0.2872456066095377"
      ]
     },
     "execution_count": 106,
     "metadata": {},
     "output_type": "execute_result"
    }
   ],
   "source": [
    "from scipy.cluster.hierarchy import fcluster\n",
    "import matplotlib.pyplot as plt\n",
    "import numpy as np\n",
    "from sklearn.metrics import adjusted_rand_score\n",
    "from icecream import ic\n",
    "\n",
    "# デンドログラムを見ると、t（しきい値）=10000で2つのクラスタに分けられることがわかる\n",
    "clusters=fcluster(linkage_array,t=10000,criterion='distance')    \n",
    "display(clusters)    # cluster 1 or 2に分けられている\n",
    "\n",
    "ic(adjusted_rand_score(cancer.target,clusters))"
   ]
  },
  {
   "cell_type": "markdown",
   "metadata": {},
   "source": []
  }
 ],
 "metadata": {
  "interpreter": {
   "hash": "aee8b7b246df8f9039afb4144a1f6fd8d2ca17a180786b69acc140d282b71a49"
  },
  "kernelspec": {
   "display_name": "Python 3.9.1 64-bit",
   "language": "python",
   "name": "python3"
  },
  "language_info": {
   "codemirror_mode": {
    "name": "ipython",
    "version": 3
   },
   "file_extension": ".py",
   "mimetype": "text/x-python",
   "name": "python",
   "nbconvert_exporter": "python",
   "pygments_lexer": "ipython3",
   "version": "3.9.1"
  },
  "orig_nbformat": 4
 },
 "nbformat": 4,
 "nbformat_minor": 2
}
